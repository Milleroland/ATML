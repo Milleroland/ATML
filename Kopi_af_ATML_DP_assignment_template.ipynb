{
  "nbformat": 4,
  "nbformat_minor": 0,
  "metadata": {
    "colab": {
      "provenance": []
    },
    "kernelspec": {
      "name": "python3",
      "display_name": "Python 3"
    },
    "language_info": {
      "name": "python"
    }
  },
  "cells": [
    {
      "cell_type": "markdown",
      "source": [
        "# Code template for hand-in on reconstruction attacks.\n",
        "\n",
        "Advanced Topics in Machine Learning, U. Copenhagen, fall 2024\n",
        "\n",
        "Created by Rasmus Pagh with minor edits by Thomas Christensen\n",
        "\n",
        "Queries on a hidden dataset x from {-1,+1}^100 can be made via the query method below\n",
        "which calls a web API that allows dot product queries with vectors in {-1,+1}^100.\n",
        "To protect data, Laplace noise is added to responses. Using the techniques you have\n",
        "seen in the lecture it is possible to partially reconstruct the dataset using 200 queries.\n",
        "To make sure that you get a unique challenge, choose any unique string as your challenge\n",
        "identifier. The web API will keep track of the number of queries made for each identifier."
      ],
      "metadata": {
        "id": "0gptEv_UkLPf"
      }
    },
    {
      "cell_type": "markdown",
      "source": [
        "# Support function for querying the web API"
      ],
      "metadata": {
        "id": "dyLpL0gdnquz"
      }
    },
    {
      "cell_type": "code",
      "source": [
        "import numpy as np\n",
        "import requests as rq\n",
        "\n",
        "# Retrieve answer to challenge for a given query\n",
        "def query(challenge_id, query_vector, submit=False):\n",
        "    # Only alphanumeric challenge_id and vextor entries in {-1,+1} are allowed:\n",
        "    assert(challenge_id.isalnum())\n",
        "    assert(np.max(np.minimum(np.abs(query_vector-1),np.abs(query_vector+1)))==0)\n",
        "\n",
        "    # if query array is 1d, make it 2d\n",
        "    if query_vector.ndim == 1:\n",
        "        query_vector = query_vector.reshape(1,-1)\n",
        "\n",
        "    payload = { 'challengeid': challenge_id, 'submit': submit,\n",
        "                'query': str(query_vector.tolist()) }\n",
        "    response = rq.post(\"https://baconbreaker.pythonanywhere.com/query\", data = payload).json()\n",
        "    if submit == False:\n",
        "        return np.array(eval(response['result']))\n",
        "    else:\n",
        "        return response['result']"
      ],
      "metadata": {
        "id": "L1Mb8xGZkTPO"
      },
      "execution_count": 138,
      "outputs": []
    },
    {
      "cell_type": "markdown",
      "source": [
        "# Making random queries to the API"
      ],
      "metadata": {
        "id": "mgh9MtPmnyEl"
      }
    },
    {
      "cell_type": "code",
      "execution_count": 166,
      "metadata": {
        "id": "rACAhWmE9zkq",
        "colab": {
          "base_uri": "https://localhost:8080/"
        },
        "outputId": "6f4693e5-716a-486c-b6f1-c4632cb87f78"
      },
      "outputs": [
        {
          "output_type": "stream",
          "name": "stdout",
          "text": [
            "[ -1.   5.   9.  -5.  -8. -13.  32.   1. -12.   6.  34.  -5.  -8.  31.\n",
            "  12.  11.  11.  11.   6.  19.  -1.   6.   6. -16.   9.  29. -11.  23.\n",
            "  10.   5. -37.  21.  -5. -16. -25.   4.   0.   7.   7.  18.   2. -10.\n",
            " -19.  14.  -7.   2.  17.  -8.  -1.  13. -18.  10.  18.  -6.  22.  -6.\n",
            " -15.  19.   0. -17.  36.   4.  29. -40.  -3. -15. -10. -14.  21.  16.\n",
            "   1. -12. -29.  10. -13.  13. -29.  12.  -2.  -9. -10.   4.  24.  74.\n",
            "   9. -10.  18.  20.   5.  -5.  -5.  21.   8. -14.  -1.   4. -32.  -3.\n",
            "   2.   1. -20.  -2. -22.  13. -23.  22.   2. -14. -18.  20.   7.  -6.\n",
            "  -2. -15.  22.  31. -11.  -7. -11.  -6.   1. -13. -11.  12.  -6. -17.\n",
            "  10.  11. -17.  21.  -5.  29.  -7. -16. -10.  12. -16. -18.   4. -17.\n",
            " -22.  20. -10.  13.  -6. -24.  27.  15.  -1.  19.  11. -22.  -6. -24.\n",
            " -23. -10.   1.   3.  20. -22.   9.  -9. -10.  28.  13.   3. -12. -12.\n",
            "  13.   6. -11.  -1.   3.   5.  -3.  40.   8. -22.   1.   5. -17.   2.\n",
            " -12.   1.  -7.  20.  -9.  15.  21. -16.  -4.   1.  -3.  10.   3.  16.\n",
            "  14. -23.  -0.   1.]\n"
          ]
        }
      ],
      "source": [
        "challenge_id = 'cool' # identifier for hidden dataset\n",
        "n = 100 # number of entries in hidden dataset\n",
        "num_queries = 2*n # number of queries to be asked\n",
        "\n",
        "queries = np.random.choice([-1,+1], size=(num_queries,n)) # Set of random queries\n",
        "query_results = query(challenge_id, queries)\n",
        "\n",
        "print(query_results)"
      ]
    },
    {
      "cell_type": "markdown",
      "source": [
        "# Baseline reconstruction attack: Guess equals the best query\n",
        "\n",
        "Copy the notebook and replace with your attack. The first submission for a given challenge_id is stored on the server and on the leaderboard: http://baconbreaker.pythonanywhere.com/leaderboard/?n=100"
      ],
      "metadata": {
        "id": "uiUoCqxtknZj"
      }
    },
    {
      "cell_type": "markdown",
      "source": [
        "**Tip**: to solve a linear program you can use the following import:\n",
        "\n",
        "```\n",
        "from scipy.optimize import linprog\n",
        "```\n",
        "\n"
      ],
      "metadata": {
        "id": "wBzhULS8lfJf"
      }
    },
    {
      "cell_type": "code",
      "source": [
        "from scipy.optimize import linprog"
      ],
      "metadata": {
        "id": "ssLVvSMcr5dD"
      },
      "execution_count": 25,
      "outputs": []
    },
    {
      "cell_type": "code",
      "source": [
        "A = np.stack((queries, -queries), axis = 1)\n",
        "A = A.reshape([400,100])\n",
        "\n",
        "\n",
        "\n",
        "query_results\n",
        "\n",
        "c = np.zeros(n)\n",
        "\n",
        "alphas = np.repeat(30, num_queries)\n",
        "bound = np.stack((alphas + query_results, alphas - query_results), axis=1).reshape(400)\n",
        "\n",
        "result = linprog(c, A_ub = A, b_ub = bound, bounds = [(-1,1)])\n",
        "result_array = result.x\n",
        "\n",
        "res_rounded = np.where(result_array >= 0, 1, -1)\n",
        "\n",
        "print(res_rounded)\n",
        "best_query_result = query('coolID', res_rounded, submit=True)\n",
        "print((1 + best_query_result / n) / 2)"
      ],
      "metadata": {
        "colab": {
          "base_uri": "https://localhost:8080/"
        },
        "id": "5UFjW_Uur-WV",
        "outputId": "530b3573-ee34-42f6-c7c8-166dcd96c349"
      },
      "execution_count": 167,
      "outputs": [
        {
          "output_type": "stream",
          "name": "stdout",
          "text": [
            "[-1  1 -1  1 -1  1 -1  1  1 -1  1  1  1  1  1 -1  1 -1  1  1  1  1  1  1\n",
            "  1 -1  1 -1  1  1  1  1 -1  1  1  1  1 -1  1  1 -1  1 -1 -1  1 -1  1  1\n",
            "  1  1  1 -1  1  1  1  1 -1  1  1  1 -1  1 -1 -1  1 -1  1 -1  1  1  1  1\n",
            "  1  1  1  1  1 -1  1  1  1  1  1  1 -1  1  1 -1 -1 -1  1  1  1 -1  1  1\n",
            "  1  1 -1 -1]\n",
            "0.56\n"
          ]
        }
      ]
    },
    {
      "cell_type": "code",
      "source": [],
      "metadata": {
        "id": "aBZfJdstU1DS"
      },
      "execution_count": null,
      "outputs": []
    },
    {
      "cell_type": "code",
      "source": [],
      "metadata": {
        "id": "xHpa0lwH1AW7"
      },
      "execution_count": null,
      "outputs": []
    }
  ]
}